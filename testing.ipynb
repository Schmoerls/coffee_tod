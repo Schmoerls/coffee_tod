{
 "cells": [
  {
   "cell_type": "code",
   "execution_count": 24,
   "metadata": {},
   "outputs": [],
   "source": [
    "type_1 = \"test\"\n",
    "type_2 = \"test\"\n",
    "\n",
    "strength_1 = 2\n",
    "strength_2 = 2\n",
    "\n",
    "temp_1 = 3\n",
    "temp_2 = 3\n",
    "\n",
    "quantity_1 = 5\n",
    "quantity_2 = 5\n",
    "\n",
    "machine_state = {\"types\": \"defined\", \"strength\": \"defined\", \"temp\": \"defined\", \"quantity\": \"defined\"}\n",
    "user_state = {\"types\": \"defined\", \"strength\": \"defined\", \"temp\": \"defined\", \"quantity\": \"defined\"}"
   ]
  },
  {
   "cell_type": "code",
   "execution_count": 25,
   "metadata": {},
   "outputs": [
    {
     "name": "stdout",
     "output_type": "stream",
     "text": [
      "types: defined, defined\n",
      "strength: defined, defined\n",
      "temp: defined, defined\n",
      "quantity: defined, defined\n",
      "8\n",
      "True\n"
     ]
    }
   ],
   "source": [
    "reward = 0\n",
    "done = False\n",
    "done_amount = 0\n",
    "\n",
    "# Iterating over the machine and user states to calculate the reward\n",
    "for (m_key, m_value), (u_key, u_value) in zip(machine_state.items(), user_state.items()):\n",
    "    print(f\"{m_key}: {m_value}, {u_value}\")\n",
    "    if m_value == u_value == \"known\":\n",
    "        reward += 1\n",
    "    elif m_value == u_value == \"defined\":\n",
    "        if m_key == \"types\" and type_1 == type_2:\n",
    "            done_amount += 1\n",
    "            reward += 2\n",
    "        elif m_key == \"strength\" and strength_1 == strength_2:\n",
    "            done_amount += 1\n",
    "            reward += 2\n",
    "        elif m_key == \"temp\" and temp_1 == temp_2:\n",
    "            done_amount += 1\n",
    "            reward += 2\n",
    "        elif m_key == \"quantity\" and quantity_1 == quantity_2:\n",
    "            done_amount += 1\n",
    "            reward += 2\n",
    "    if done_amount == 4:\n",
    "        done = True\n",
    "                \n",
    "print(reward)\n",
    "print(done)"
   ]
  },
  {
   "cell_type": "code",
   "execution_count": null,
   "metadata": {},
   "outputs": [],
   "source": []
  }
 ],
 "metadata": {
  "kernelspec": {
   "display_name": "tod",
   "language": "python",
   "name": "python3"
  },
  "language_info": {
   "codemirror_mode": {
    "name": "ipython",
    "version": 3
   },
   "file_extension": ".py",
   "mimetype": "text/x-python",
   "name": "python",
   "nbconvert_exporter": "python",
   "pygments_lexer": "ipython3",
   "version": "3.12.5"
  }
 },
 "nbformat": 4,
 "nbformat_minor": 2
}
