{
 "cells": [
  {
   "cell_type": "code",
   "execution_count": 10,
   "metadata": {},
   "outputs": [],
   "source": [
    "import gym\n",
    "import torch\n",
    "import torch.nn as nn\n",
    "import torch.optim as optim\n",
    "import random\n",
    "import numpy as np\n",
    "from collections import deque\n",
    "from gym import spaces"
   ]
  },
  {
   "cell_type": "code",
   "execution_count": null,
   "metadata": {},
   "outputs": [],
   "source": [
    "class CoffeeMachineEnv(gym.Env):\n",
    "    def __init__(self):\n",
    "        super(CoffeeMachineEnv, self).__init__()\n",
    "\n",
    "        # Define state space (5 discrete values)\n",
    "        self.observation_space = spaces.MultiDiscrete([4, 4, 3, 3, 2])  \n",
    "        # [Machine status, User input, Water level, Coffee beans, Milk] -> number is amount of categories each element can have e.g. machine status: 0=Idle, 1=Brewing, 2=Dispensing, 3=Waiting for Input\n",
    "\n",
    "        # Define action space (5 discrete actions) -> Start brewing, Dispense coffee, Add milk, Clean machine, Cancel order\n",
    "        self.action_space = spaces.Discrete(5)\n",
    "\n",
    "        # Initial state\n",
    "        self.state = [0, 0, 2, 2, 1]  # Idle, No user input, Full water, Full beans, Has milk\n",
    "\n",
    "    def step(self, action):\n",
    "        print(\"Action: \", action)\n",
    "        reward = 0\n",
    "        done = False\n",
    "\n",
    "        machine_status, user_input, water_level, coffee_beans, milk_availability = self.state\n",
    "\n",
    "        # Define how the environment responds to actions\n",
    "        #if action == 0 and machine_status == 0 and user_input == 1 and water_level > 0 and coffee_beans > 0:\n",
    "        if action == 0:\n",
    "            if water_level > 0 and coffee_beans > 0:\n",
    "                self.state[0] = 1  # Brewing\n",
    "                self.state[2] = max(0, self.state[2] - 1)  # Reduce water\n",
    "                self.state[3] = max(0, self.state[3] - 1)  # Reduce coffee beans\n",
    "                reward = 2\n",
    "            else:\n",
    "                self.state[0] = 3  # Waiting for Input\n",
    "                reward = -1\n",
    "        elif action == 1 and machine_status == 1:\n",
    "            self.state[0] = 2  # Dispensing\n",
    "            reward = 3\n",
    "        elif action == 2 and self.state[0] == 2 and milk_availability == 1:\n",
    "            reward = 1  # Add milk successfully\n",
    "        elif action == 3:\n",
    "            self.state = [0, 0, 2, 2, 1]  # Reset machine\n",
    "            reward = 1\n",
    "            done = True\n",
    "        elif action == 4:\n",
    "            reward = -1  # Cancel order = negative reward\n",
    "            done = True\n",
    "        else:\n",
    "            reward = -2  # Invalid action (e.g., trying to brew with no user input)\n",
    "\n",
    "        return self.state, reward, done, {}\n",
    "\n",
    "    def reset(self):\n",
    "        self.state = [0, 0, 2, 2, 1] # Reset the machine to initial state\n",
    "        return self.state"
   ]
  },
  {
   "cell_type": "code",
   "execution_count": 46,
   "metadata": {},
   "outputs": [],
   "source": [
    "env = CoffeeMachineEnv()  # Use your custom environment"
   ]
  },
  {
   "cell_type": "code",
   "execution_count": 47,
   "metadata": {},
   "outputs": [
    {
     "name": "stdout",
     "output_type": "stream",
     "text": [
      "Initial State: [0, 0, 2, 2, 1]\n",
      "Next State: [0, 0, 2, 2, 1] Reward: -2 Done: False\n",
      "Next State: [0, 0, 2, 2, 1] Reward: -2 Done: False\n",
      "Next State: [0, 0, 2, 2, 1] Reward: -2 Done: False\n",
      "Next State: [0, 0, 2, 2, 1] Reward: -2 Done: False\n",
      "Next State: [0, 0, 2, 2, 1] Reward: -1 Done: True\n"
     ]
    }
   ],
   "source": [
    "env = CoffeeMachineEnv()\n",
    "state = env.reset()\n",
    "print(\"Initial State:\", state)\n",
    "\n",
    "for _ in range(5):\n",
    "    action = env.action_space.sample()  # Random action\n",
    "    next_state, reward, done, _ = env.step(action)\n",
    "    print(\"Next State:\", next_state, \"Reward:\", reward, \"Done:\", done)"
   ]
  },
  {
   "cell_type": "code",
   "execution_count": 48,
   "metadata": {},
   "outputs": [],
   "source": [
    "# Neural network model for approximating Q-values\n",
    "class DQN(nn.Module):\n",
    "    def __init__(self, input_dim, output_dim):\n",
    "        super(DQN, self).__init__()\n",
    "        self.fc1 = nn.Linear(input_dim, 128)\n",
    "        self.fc2 = nn.Linear(128, 128)\n",
    "        self.fc3 = nn.Linear(128, output_dim)\n",
    "    \n",
    "    def forward(self, x):\n",
    "        x = torch.relu(self.fc1(x))\n",
    "        x = torch.relu(self.fc2(x))\n",
    "        return self.fc3(x)"
   ]
  },
  {
   "cell_type": "code",
   "execution_count": 58,
   "metadata": {},
   "outputs": [],
   "source": [
    "# Hyperparameters\n",
    "learning_rate = 0.001\n",
    "gamma = 0.99\n",
    "epsilon = 1.0\n",
    "epsilon_min = 0.01\n",
    "epsilon_decay = 0.995\n",
    "batch_size = 64\n",
    "target_update_freq = 1000\n",
    "memory_size = 10000\n",
    "episodes = 1000"
   ]
  },
  {
   "cell_type": "code",
   "execution_count": 50,
   "metadata": {},
   "outputs": [],
   "source": [
    "# Initialize Q-networks\n",
    "input_dim = 5 # Observation space -> the 5 possible inputs [Machine status, User input, Water level, Coffee beans, Milk] \n",
    "output_dim = 5 # Action space -> the 5 possible actions [Start brewing, Dispense coffee...] -> for every action a Q value gets calculated, which is the expected reward for taking that action in that state\n",
    "policy_net = DQN(input_dim, output_dim)\n",
    "target_net = DQN(input_dim, output_dim)\n",
    "target_net.load_state_dict(policy_net.state_dict())\n",
    "target_net.eval()\n",
    "\n",
    "optimizer = optim.Adam(policy_net.parameters(), lr=learning_rate)\n",
    "memory = deque(maxlen=memory_size)"
   ]
  },
  {
   "cell_type": "code",
   "execution_count": 51,
   "metadata": {},
   "outputs": [],
   "source": [
    "def select_action(state, epsilon):\n",
    "    if random.random() < epsilon:\n",
    "        return env.action_space.sample()  # Explore (random action)\n",
    "    else:\n",
    "        state = torch.FloatTensor([state]).unsqueeze(0)\n",
    "        q_values = policy_net(state)\n",
    "        return torch.argmax(q_values).item()  # Exploit (best action)"
   ]
  },
  {
   "cell_type": "code",
   "execution_count": 52,
   "metadata": {},
   "outputs": [],
   "source": [
    "# Function to optimize the model using experience replay\n",
    "def optimize_model():\n",
    "    if len(memory) < batch_size:\n",
    "        return\n",
    "    \n",
    "    batch = random.sample(memory, batch_size)\n",
    "    state_batch, action_batch, reward_batch, next_state_batch, done_batch = zip(*batch)\n",
    "\n",
    "    state_batch = torch.FloatTensor(state_batch)\n",
    "    action_batch = torch.LongTensor(action_batch).unsqueeze(1)\n",
    "    reward_batch = torch.FloatTensor(reward_batch)\n",
    "    next_state_batch = torch.FloatTensor(next_state_batch)\n",
    "    done_batch = torch.FloatTensor(done_batch)\n",
    "\n",
    "    # Compute Q-values for current states\n",
    "    q_values = policy_net(state_batch).gather(1, action_batch).squeeze()\n",
    "\n",
    "    # Compute target Q-values using the target network\n",
    "    with torch.no_grad():\n",
    "        max_next_q_values = target_net(next_state_batch).max(1)[0]\n",
    "        target_q_values = reward_batch + gamma * max_next_q_values * (1 - done_batch)\n",
    "\n",
    "    loss = nn.MSELoss()(q_values, target_q_values)\n",
    "\n",
    "    optimizer.zero_grad()\n",
    "    loss.backward()\n",
    "    optimizer.step()"
   ]
  },
  {
   "cell_type": "code",
   "execution_count": null,
   "metadata": {},
   "outputs": [],
   "source": [
    "# Main training loop\n",
    "rewards_per_episode = []\n",
    "steps_done = 0\n",
    "\n",
    "for episode in range(episodes):\n",
    "    state = env.reset()\n",
    "    episode_reward = 0\n",
    "    done = False\n",
    "    \n",
    "    while not done:\n",
    "        # Select action\n",
    "        action = select_action(state, epsilon)\n",
    "        next_state, reward, done, _ = env.step(action)\n",
    "        \n",
    "        # Store transition in memory\n",
    "        memory.append((state, action, reward, next_state, done))\n",
    "        \n",
    "        # Update state\n",
    "        state = next_state\n",
    "        episode_reward += reward\n",
    "        \n",
    "        # Optimize model\n",
    "        optimize_model()\n",
    "\n",
    "        # Update target network periodically\n",
    "        if steps_done % target_update_freq == 0:\n",
    "            target_net.load_state_dict(policy_net.state_dict())\n",
    "\n",
    "        steps_done += 1\n",
    "\n",
    "    # Decay epsilon\n",
    "    epsilon = max(epsilon_min, epsilon_decay * epsilon)\n",
    "    \n",
    "    rewards_per_episode.append(episode_reward)"
   ]
  },
  {
   "cell_type": "code",
   "execution_count": 60,
   "metadata": {},
   "outputs": [
    {
     "data": {
      "image/png": "[encoded data removed]",
      "text/plain": [
       "<Figure size 640x480 with 1 Axes>"
      ]
     },
     "metadata": {},
     "output_type": "display_data"
    }
   ],
   "source": [
    "# Plotting the rewards per episode\n",
    "import matplotlib.pyplot as plt\n",
    "plt.plot(rewards_per_episode)\n",
    "plt.xlabel('Episode')\n",
    "plt.ylabel('Reward')\n",
    "plt.title('DQN for coffeemachine')\n",
    "plt.show()"
   ]
  },
  {
   "cell_type": "code",
   "execution_count": null,
   "metadata": {},
   "outputs": [],
   "source": []
  }
 ],
 "metadata": {
  "kernelspec": {
   "display_name": "tod",
   "language": "python",
   "name": "python3"
  },
  "language_info": {
   "codemirror_mode": {
    "name": "ipython",
    "version": 3
   },
   "file_extension": ".py",
   "mimetype": "text/x-python",
   "name": "python",
   "nbconvert_exporter": "python",
   "pygments_lexer": "ipython3",
   "version": "3.12.5"
  }
 },
 "nbformat": 4,
 "nbformat_minor": 2
}
